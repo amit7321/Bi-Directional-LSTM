{
  "nbformat": 4,
  "nbformat_minor": 0,
  "metadata": {
    "colab": {
      "name": "170104055.ipynb",
      "provenance": [],
      "collapsed_sections": []
    },
    "kernelspec": {
      "name": "python3",
      "display_name": "Python 3"
    },
    "language_info": {
      "name": "python"
    },
    "accelerator": "GPU"
  },
  "cells": [
    {
      "cell_type": "markdown",
      "metadata": {
        "id": "VYlHeLVLxYi4"
      },
      "source": [
        "\n",
        "My ID :170104014$\n",
        "\n",
        "Last $3$ digits --> 055 \n",
        "\n",
        "**Dataset Selection**\n",
        "\n",
        "Now, $55 \\% 3 = 1$ and so Dataset 2 was assigned.\n",
        "\n",
        "**Model**\n",
        "\n",
        "$(55 + 2) \\% 5 = 57 \\% 5 = 2$\n",
        "\n",
        "The assigned model is *Bidirectional LSTM*\n"
      ]
    },
    {
      "cell_type": "code",
      "metadata": {
        "id": "C7RxCMuHNDlx"
      },
      "source": [
        "import numpy as np\n",
        "import pandas as pd\n",
        "import seaborn as sns\n",
        "import tensorflow as tf\n",
        "import matplotlib.pyplot as plt\n",
        "\n",
        "from keras.preprocessing.text import Tokenizer\n",
        "from keras.preprocessing.sequence import pad_sequences\n",
        "from keras.models import Sequential\n",
        "from keras import layers\n",
        "from keras import backend as K\n",
        "from keras.utils.vis_utils import plot_model\n",
        "\n",
        "from sklearn.metrics import accuracy_score\n",
        "from sklearn.metrics import precision_score\n",
        "from sklearn.metrics import recall_score\n",
        "from sklearn.metrics import f1_score\n",
        "from sklearn.metrics import confusion_matrix"
      ],
      "execution_count": 1,
      "outputs": []
    },
    {
      "cell_type": "code",
      "metadata": {
        "colab": {
          "base_uri": "https://localhost:8080/"
        },
        "id": "OOVHZMLyYgy9",
        "outputId": "9350b377-94fb-48a9-ebb1-94ff3f1d3028"
      },
      "source": [
        "from google.colab import drive\n",
        "drive.mount('/content/drive')"
      ],
      "execution_count": 2,
      "outputs": [
        {
          "output_type": "stream",
          "name": "stdout",
          "text": [
            "Mounted at /content/drive\n"
          ]
        }
      ]
    },
    {
      "cell_type": "code",
      "metadata": {
        "colab": {
          "base_uri": "https://localhost:8080/",
          "height": 422
        },
        "id": "Qy1qO3NsOYcp",
        "outputId": "ff73ce8d-c7fb-43d7-9efe-7281a49acfa0"
      },
      "source": [
        "data = pd.read_csv('/content/drive/MyDrive/Colab Notebooks/soft computing/Assignment 3/Dataset 2.csv', engine = 'python')\n",
        "\n",
        "data"
      ],
      "execution_count": 3,
      "outputs": [
        {
          "output_type": "execute_result",
          "data": {
            "text/html": [
              "<div>\n",
              "<style scoped>\n",
              "    .dataframe tbody tr th:only-of-type {\n",
              "        vertical-align: middle;\n",
              "    }\n",
              "\n",
              "    .dataframe tbody tr th {\n",
              "        vertical-align: top;\n",
              "    }\n",
              "\n",
              "    .dataframe thead th {\n",
              "        text-align: right;\n",
              "    }\n",
              "</style>\n",
              "<table border=\"1\" class=\"dataframe\">\n",
              "  <thead>\n",
              "    <tr style=\"text-align: right;\">\n",
              "      <th></th>\n",
              "      <th>text</th>\n",
              "      <th>polarity</th>\n",
              "    </tr>\n",
              "  </thead>\n",
              "  <tbody>\n",
              "    <tr>\n",
              "      <th>0</th>\n",
              "      <td>just had a real good moment. i missssssssss hi...</td>\n",
              "      <td>0</td>\n",
              "    </tr>\n",
              "    <tr>\n",
              "      <th>1</th>\n",
              "      <td>is reading manga  http://plurk.com/p/mzp1e</td>\n",
              "      <td>0</td>\n",
              "    </tr>\n",
              "    <tr>\n",
              "      <th>2</th>\n",
              "      <td>@comeagainjen http://twitpic.com/2y2lx - http:...</td>\n",
              "      <td>0</td>\n",
              "    </tr>\n",
              "    <tr>\n",
              "      <th>3</th>\n",
              "      <td>@lapcat Need to send 'em to my accountant tomo...</td>\n",
              "      <td>0</td>\n",
              "    </tr>\n",
              "    <tr>\n",
              "      <th>4</th>\n",
              "      <td>ADD ME ON MYSPACE!!!  myspace.com/LookThunder</td>\n",
              "      <td>0</td>\n",
              "    </tr>\n",
              "    <tr>\n",
              "      <th>...</th>\n",
              "      <td>...</td>\n",
              "      <td>...</td>\n",
              "    </tr>\n",
              "    <tr>\n",
              "      <th>10309</th>\n",
              "      <td>No Depression by G Herbo is my mood from now o...</td>\n",
              "      <td>1</td>\n",
              "    </tr>\n",
              "    <tr>\n",
              "      <th>10310</th>\n",
              "      <td>What do you do when depression succumbs the br...</td>\n",
              "      <td>1</td>\n",
              "    </tr>\n",
              "    <tr>\n",
              "      <th>10311</th>\n",
              "      <td>Ketamine Nasal Spray Shows Promise Against Dep...</td>\n",
              "      <td>1</td>\n",
              "    </tr>\n",
              "    <tr>\n",
              "      <th>10312</th>\n",
              "      <td>dont mistake a bad day with depression! everyo...</td>\n",
              "      <td>1</td>\n",
              "    </tr>\n",
              "    <tr>\n",
              "      <th>10313</th>\n",
              "      <td>0</td>\n",
              "      <td>1</td>\n",
              "    </tr>\n",
              "  </tbody>\n",
              "</table>\n",
              "<p>10314 rows × 2 columns</p>\n",
              "</div>"
            ],
            "text/plain": [
              "                                                    text  polarity\n",
              "0      just had a real good moment. i missssssssss hi...         0\n",
              "1             is reading manga  http://plurk.com/p/mzp1e         0\n",
              "2      @comeagainjen http://twitpic.com/2y2lx - http:...         0\n",
              "3      @lapcat Need to send 'em to my accountant tomo...         0\n",
              "4          ADD ME ON MYSPACE!!!  myspace.com/LookThunder         0\n",
              "...                                                  ...       ...\n",
              "10309  No Depression by G Herbo is my mood from now o...         1\n",
              "10310  What do you do when depression succumbs the br...         1\n",
              "10311  Ketamine Nasal Spray Shows Promise Against Dep...         1\n",
              "10312  dont mistake a bad day with depression! everyo...         1\n",
              "10313                                                  0         1\n",
              "\n",
              "[10314 rows x 2 columns]"
            ]
          },
          "metadata": {},
          "execution_count": 3
        }
      ]
    },
    {
      "cell_type": "code",
      "metadata": {
        "colab": {
          "base_uri": "https://localhost:8080/",
          "height": 660
        },
        "id": "gAT9svnKrMI9",
        "outputId": "409466fd-adbb-4f62-d159-d23f34adaaca"
      },
      "source": [
        "data = data.sample(frac = 1., random_state = 14).reset_index(drop = True)\n",
        "\n",
        "print(data['text'].value_counts(0))\n",
        "data"
      ],
      "execution_count": 5,
      "outputs": [
        {
          "output_type": "stream",
          "name": "stdout",
          "text": [
            "Mom's depression tied to kids' emotional, intellectual development  https://ift.tt/2HtVZCEÂ                                                                                  11\n",
            "More than 1 in 20 US children and teens have anxiety or depression  https://www.sciencedaily.com/releases/2018/04/180424184119.htmÂ â¦                                       4\n",
            "25-04-18                                                                                                                                                                      4\n",
            "[Zicutake] Depression can be prevented by exercise  https://goo.gl/fb/Mu7k6tÂ                                                                                                 3\n",
            "Good morning                                                                                                                                                                  3\n",
            "                                                                                                                                                                             ..\n",
            "@jonasbrothers http://twitpic.com/5nf67 - Joe, you look like an insane tourist! hahaha!  - Nick, what's up there? d: .. Kevin, where a ...                                    1\n",
            "@ohmyjade YEA.!! it was REALLY adorablee..i swear i'm gonna have THAT moment on my mind THE REST OF MY LIFE                                                                   1\n",
            "UPMC Looking For Participants For Depression, Dementia Study  http://pittsburgh.cbslocal.com/2018/04/20/upmc-looking-for-participants-for-depression-dementia-study/Â â¦     1\n",
            "@ViolaMaths I love that alto clef! If I were a tattoo-getting person I'd totally get inked w/ that. Mind if I use that symbol in my blog?                                     1\n",
            "@EcstaticGrapes Dont worry Raina, jsut expect an e-mail                                                                                                                       1\n",
            "Name: text, Length: 10282, dtype: int64\n"
          ]
        },
        {
          "output_type": "execute_result",
          "data": {
            "text/html": [
              "<div>\n",
              "<style scoped>\n",
              "    .dataframe tbody tr th:only-of-type {\n",
              "        vertical-align: middle;\n",
              "    }\n",
              "\n",
              "    .dataframe tbody tr th {\n",
              "        vertical-align: top;\n",
              "    }\n",
              "\n",
              "    .dataframe thead th {\n",
              "        text-align: right;\n",
              "    }\n",
              "</style>\n",
              "<table border=\"1\" class=\"dataframe\">\n",
              "  <thead>\n",
              "    <tr style=\"text-align: right;\">\n",
              "      <th></th>\n",
              "      <th>text</th>\n",
              "      <th>polarity</th>\n",
              "    </tr>\n",
              "  </thead>\n",
              "  <tbody>\n",
              "    <tr>\n",
              "      <th>0</th>\n",
              "      <td>@curious1966 Not sure, depends on who wants a ...</td>\n",
              "      <td>0</td>\n",
              "    </tr>\n",
              "    <tr>\n",
              "      <th>1</th>\n",
              "      <td>I'm Forgot all my problems and depression when...</td>\n",
              "      <td>1</td>\n",
              "    </tr>\n",
              "    <tr>\n",
              "      <th>2</th>\n",
              "      <td>i mean, probably he was way more depressed tha...</td>\n",
              "      <td>1</td>\n",
              "    </tr>\n",
              "    <tr>\n",
              "      <th>3</th>\n",
              "      <td>naptime.  thanx to all of my followers--i just...</td>\n",
              "      <td>0</td>\n",
              "    </tr>\n",
              "    <tr>\n",
              "      <th>4</th>\n",
              "      <td>@MentalStrawbery yeah i didn't change it i was...</td>\n",
              "      <td>0</td>\n",
              "    </tr>\n",
              "    <tr>\n",
              "      <th>...</th>\n",
              "      <td>...</td>\n",
              "      <td>...</td>\n",
              "    </tr>\n",
              "    <tr>\n",
              "      <th>10309</th>\n",
              "      <td>Ewww! Watery tea! The bag should be brewed for...</td>\n",
              "      <td>0</td>\n",
              "    </tr>\n",
              "    <tr>\n",
              "      <th>10310</th>\n",
              "      <td>#depression is to feel like crying every time ...</td>\n",
              "      <td>1</td>\n",
              "    </tr>\n",
              "    <tr>\n",
              "      <th>10311</th>\n",
              "      <td>@fawfulfan @AEC_PA @AdreanaInLB @MairinMurphy ...</td>\n",
              "      <td>1</td>\n",
              "    </tr>\n",
              "    <tr>\n",
              "      <th>10312</th>\n",
              "      <td>Whether you are excited to graduate or nervous...</td>\n",
              "      <td>1</td>\n",
              "    </tr>\n",
              "    <tr>\n",
              "      <th>10313</th>\n",
              "      <td>@whatcaitlindid long time no twitter  on monda...</td>\n",
              "      <td>0</td>\n",
              "    </tr>\n",
              "  </tbody>\n",
              "</table>\n",
              "<p>10314 rows × 2 columns</p>\n",
              "</div>"
            ],
            "text/plain": [
              "                                                    text  polarity\n",
              "0      @curious1966 Not sure, depends on who wants a ...         0\n",
              "1      I'm Forgot all my problems and depression when...         1\n",
              "2      i mean, probably he was way more depressed tha...         1\n",
              "3      naptime.  thanx to all of my followers--i just...         0\n",
              "4      @MentalStrawbery yeah i didn't change it i was...         0\n",
              "...                                                  ...       ...\n",
              "10309  Ewww! Watery tea! The bag should be brewed for...         0\n",
              "10310  #depression is to feel like crying every time ...         1\n",
              "10311  @fawfulfan @AEC_PA @AdreanaInLB @MairinMurphy ...         1\n",
              "10312  Whether you are excited to graduate or nervous...         1\n",
              "10313  @whatcaitlindid long time no twitter  on monda...         0\n",
              "\n",
              "[10314 rows x 2 columns]"
            ]
          },
          "metadata": {},
          "execution_count": 5
        }
      ]
    },
    {
      "cell_type": "code",
      "metadata": {
        "id": "vXk1PKKmPuNI"
      },
      "source": [
        "EPOCH = 10\n",
        "\n",
        "split_val = int(0.2 * data.shape[0])\n",
        "\n",
        "dataTest = data.iloc[-split_val :]\n",
        "dataVal = data.iloc[- 2 * split_val : -split_val]\n",
        "dataTrain = data.iloc[: - 2 * split_val]"
      ],
      "execution_count": 6,
      "outputs": []
    },
    {
      "cell_type": "code",
      "metadata": {
        "colab": {
          "base_uri": "https://localhost:8080/",
          "height": 640
        },
        "id": "aMhe-A-lr4fH",
        "outputId": "ba40fc8a-4980-4548-d89f-c0b2b83c6c7f"
      },
      "source": [
        "print(dataTrain['text'].value_counts())\n",
        "\n",
        "dataTrain"
      ],
      "execution_count": 7,
      "outputs": [
        {
          "output_type": "stream",
          "name": "stdout",
          "text": [
            "Mom's depression tied to kids' emotional, intellectual development  https://ift.tt/2HtVZCEÂ                                                                           7\n",
            "25-04-18                                                                                                                                                              3\n",
            "More than 1 in 20 US children and teens have anxiety or depression  https://www.sciencedaily.com/releases/2018/04/180424184119.htmÂ â¦                               3\n",
            "Don't settle with #depression, #anxiety or defeat. #Jesus wants you to overcome. #faith #Prayer #bible #kalamazoo http://www.vwcenter.org/fervent-prayer.htmlÂ â¦    2\n",
            "suffering from chronic depression https://vine.co/v/iu3l2lPBhiKÂ                                                                                                      2\n",
            "                                                                                                                                                                     ..\n",
            "just sitting here. having fun with my grandma                                                                                                                         1\n",
            "My mind is still on london local time.. Can't sleep. Workout, fifa, at&amp;t, beach all day!!!  @lindsaydowdal have a great day! See you soon                         1\n",
            "@SabrinaL make sure you post that website to download the mixtape from.                                                                                               1\n",
            "@phillybookco Nice yo!!! Live it for me buddy!                                                                                                                        1\n",
            "@EcstaticGrapes Dont worry Raina, jsut expect an e-mail                                                                                                               1\n",
            "Name: text, Length: 6176, dtype: int64\n"
          ]
        },
        {
          "output_type": "execute_result",
          "data": {
            "text/html": [
              "<div>\n",
              "<style scoped>\n",
              "    .dataframe tbody tr th:only-of-type {\n",
              "        vertical-align: middle;\n",
              "    }\n",
              "\n",
              "    .dataframe tbody tr th {\n",
              "        vertical-align: top;\n",
              "    }\n",
              "\n",
              "    .dataframe thead th {\n",
              "        text-align: right;\n",
              "    }\n",
              "</style>\n",
              "<table border=\"1\" class=\"dataframe\">\n",
              "  <thead>\n",
              "    <tr style=\"text-align: right;\">\n",
              "      <th></th>\n",
              "      <th>text</th>\n",
              "      <th>polarity</th>\n",
              "    </tr>\n",
              "  </thead>\n",
              "  <tbody>\n",
              "    <tr>\n",
              "      <th>0</th>\n",
              "      <td>@curious1966 Not sure, depends on who wants a ...</td>\n",
              "      <td>0</td>\n",
              "    </tr>\n",
              "    <tr>\n",
              "      <th>1</th>\n",
              "      <td>I'm Forgot all my problems and depression when...</td>\n",
              "      <td>1</td>\n",
              "    </tr>\n",
              "    <tr>\n",
              "      <th>2</th>\n",
              "      <td>i mean, probably he was way more depressed tha...</td>\n",
              "      <td>1</td>\n",
              "    </tr>\n",
              "    <tr>\n",
              "      <th>3</th>\n",
              "      <td>naptime.  thanx to all of my followers--i just...</td>\n",
              "      <td>0</td>\n",
              "    </tr>\n",
              "    <tr>\n",
              "      <th>4</th>\n",
              "      <td>@MentalStrawbery yeah i didn't change it i was...</td>\n",
              "      <td>0</td>\n",
              "    </tr>\n",
              "    <tr>\n",
              "      <th>...</th>\n",
              "      <td>...</td>\n",
              "      <td>...</td>\n",
              "    </tr>\n",
              "    <tr>\n",
              "      <th>6185</th>\n",
              "      <td>Is anyone joomla-savvyyy? We just need a lil t...</td>\n",
              "      <td>0</td>\n",
              "    </tr>\n",
              "    <tr>\n",
              "      <th>6186</th>\n",
              "      <td>Recommend  @dcjc Tea Party 2.0  http://tparty2...</td>\n",
              "      <td>0</td>\n",
              "    </tr>\n",
              "    <tr>\n",
              "      <th>6187</th>\n",
              "      <td>loving lady G's new song</td>\n",
              "      <td>0</td>\n",
              "    </tr>\n",
              "    <tr>\n",
              "      <th>6188</th>\n",
              "      <td>A meta-analysis of 23 peerrun programmes for d...</td>\n",
              "      <td>1</td>\n",
              "    </tr>\n",
              "    <tr>\n",
              "      <th>6189</th>\n",
              "      <td>@gashead thank you sweety  x baba maal was goo...</td>\n",
              "      <td>0</td>\n",
              "    </tr>\n",
              "  </tbody>\n",
              "</table>\n",
              "<p>6190 rows × 2 columns</p>\n",
              "</div>"
            ],
            "text/plain": [
              "                                                   text  polarity\n",
              "0     @curious1966 Not sure, depends on who wants a ...         0\n",
              "1     I'm Forgot all my problems and depression when...         1\n",
              "2     i mean, probably he was way more depressed tha...         1\n",
              "3     naptime.  thanx to all of my followers--i just...         0\n",
              "4     @MentalStrawbery yeah i didn't change it i was...         0\n",
              "...                                                 ...       ...\n",
              "6185  Is anyone joomla-savvyyy? We just need a lil t...         0\n",
              "6186  Recommend  @dcjc Tea Party 2.0  http://tparty2...         0\n",
              "6187                          loving lady G's new song          0\n",
              "6188  A meta-analysis of 23 peerrun programmes for d...         1\n",
              "6189  @gashead thank you sweety  x baba maal was goo...         0\n",
              "\n",
              "[6190 rows x 2 columns]"
            ]
          },
          "metadata": {},
          "execution_count": 7
        }
      ]
    },
    {
      "cell_type": "code",
      "metadata": {
        "colab": {
          "base_uri": "https://localhost:8080/",
          "height": 640
        },
        "id": "l2tTMKOsr4X0",
        "outputId": "7df13782-1dde-4399-ccf3-4b776b65a029"
      },
      "source": [
        "print(dataVal['text'].value_counts())\n",
        "\n",
        "dataVal"
      ],
      "execution_count": 8,
      "outputs": [
        {
          "output_type": "stream",
          "name": "stdout",
          "text": [
            "The Stock Market Is Having its Worst Second Quarter Since the Great Depression  http://fortune.com/2018/04/02/stock-market-nyse-worst-second-quarter-depression/Â â¦    2\n",
            "me and my mates are gunna chekk out a movie next week..i really want to see the boat that rocked.                                                                        1\n",
            "I just ate so much Taco Bell I'm going to lose 35 pounds. #depression                                                                                                    1\n",
            "@KarenCivil okay! he just texted me saying that he'd wake up me up lol... if he doesnt I call you at 1PM your time! thx Karen                                            1\n",
            "Thankful for the people in my life helping me get through this depression. I don't know what I would do without this kind of love and support                            1\n",
            "                                                                                                                                                                        ..\n",
            "@CLinterior Happy weekend; that is great about your father.  Good morning yet from our side of the globe                                                                 1\n",
            "Feeling sleepy already - it's only 0:40. Gotta finish here and go to bed. Tomorrow is a busy day and I need to be fresh                                                  1\n",
            "@tracyyzamo maybe she's born with it, maybe its clinical depression                                                                                                      1\n",
            "@ Heinz Field for the Kenny Chesney concert  _ leaving for Nashville tomorrow &lt;3                                                                                      1\n",
            "Lol im thinking about a song from a movie now                                                                                                                            1\n",
            "Name: text, Length: 2061, dtype: int64\n"
          ]
        },
        {
          "output_type": "execute_result",
          "data": {
            "text/html": [
              "<div>\n",
              "<style scoped>\n",
              "    .dataframe tbody tr th:only-of-type {\n",
              "        vertical-align: middle;\n",
              "    }\n",
              "\n",
              "    .dataframe tbody tr th {\n",
              "        vertical-align: top;\n",
              "    }\n",
              "\n",
              "    .dataframe thead th {\n",
              "        text-align: right;\n",
              "    }\n",
              "</style>\n",
              "<table border=\"1\" class=\"dataframe\">\n",
              "  <thead>\n",
              "    <tr style=\"text-align: right;\">\n",
              "      <th></th>\n",
              "      <th>text</th>\n",
              "      <th>polarity</th>\n",
              "    </tr>\n",
              "  </thead>\n",
              "  <tbody>\n",
              "    <tr>\n",
              "      <th>6190</th>\n",
              "      <td>Time to take a shower o.o And later iÂ´ll visi...</td>\n",
              "      <td>0</td>\n",
              "    </tr>\n",
              "    <tr>\n",
              "      <th>6191</th>\n",
              "      <td>@kierij_ WOW you just have a sample of depress...</td>\n",
              "      <td>1</td>\n",
              "    </tr>\n",
              "    <tr>\n",
              "      <th>6192</th>\n",
              "      <td>@theStatus Thanks guys  I now have a whole 8 f...</td>\n",
              "      <td>0</td>\n",
              "    </tr>\n",
              "    <tr>\n",
              "      <th>6193</th>\n",
              "      <td>Why aren the kardashians the most entertaining...</td>\n",
              "      <td>0</td>\n",
              "    </tr>\n",
              "    <tr>\n",
              "      <th>6194</th>\n",
              "      <td>Learning how to forgive myself for the stagnan...</td>\n",
              "      <td>1</td>\n",
              "    </tr>\n",
              "    <tr>\n",
              "      <th>...</th>\n",
              "      <td>...</td>\n",
              "      <td>...</td>\n",
              "    </tr>\n",
              "    <tr>\n",
              "      <th>8247</th>\n",
              "      <td>That hard beat of your heart, the endless doub...</td>\n",
              "      <td>1</td>\n",
              "    </tr>\n",
              "    <tr>\n",
              "      <th>8248</th>\n",
              "      <td>yes.... yes it is</td>\n",
              "      <td>0</td>\n",
              "    </tr>\n",
              "    <tr>\n",
              "      <th>8249</th>\n",
              "      <td>@mrsnasirjones u rdy 2 masterbate hun?? cuz I am</td>\n",
              "      <td>0</td>\n",
              "    </tr>\n",
              "    <tr>\n",
              "      <th>8250</th>\n",
              "      <td>just awhile ago me and my dad played wii sport...</td>\n",
              "      <td>0</td>\n",
              "    </tr>\n",
              "    <tr>\n",
              "      <th>8251</th>\n",
              "      <td>@runnrgrl thanks  ill tweet updates</td>\n",
              "      <td>0</td>\n",
              "    </tr>\n",
              "  </tbody>\n",
              "</table>\n",
              "<p>2062 rows × 2 columns</p>\n",
              "</div>"
            ],
            "text/plain": [
              "                                                   text  polarity\n",
              "6190  Time to take a shower o.o And later iÂ´ll visi...         0\n",
              "6191  @kierij_ WOW you just have a sample of depress...         1\n",
              "6192  @theStatus Thanks guys  I now have a whole 8 f...         0\n",
              "6193  Why aren the kardashians the most entertaining...         0\n",
              "6194  Learning how to forgive myself for the stagnan...         1\n",
              "...                                                 ...       ...\n",
              "8247  That hard beat of your heart, the endless doub...         1\n",
              "8248                                 yes.... yes it is          0\n",
              "8249  @mrsnasirjones u rdy 2 masterbate hun?? cuz I am          0\n",
              "8250  just awhile ago me and my dad played wii sport...         0\n",
              "8251                @runnrgrl thanks  ill tweet updates         0\n",
              "\n",
              "[2062 rows x 2 columns]"
            ]
          },
          "metadata": {},
          "execution_count": 8
        }
      ]
    },
    {
      "cell_type": "code",
      "metadata": {
        "colab": {
          "base_uri": "https://localhost:8080/",
          "height": 660
        },
        "id": "GdtDG4BLr4Hc",
        "outputId": "19f3e916-221d-4226-f8a0-7ed23c0c8617"
      },
      "source": [
        "print(dataTest['text'].value_counts())\n",
        "\n",
        "dataTest"
      ],
      "execution_count": 9,
      "outputs": [
        {
          "output_type": "stream",
          "name": "stdout",
          "text": [
            "Mom's depression tied to kids' emotional, intellectual development  https://ift.tt/2HtVZCEÂ                                                                                                                                                                  3\n",
            "Depression is real                                                                                                                                                                                                                                           2\n",
            "Good morning                                                                                                                                                                                                                                                 2\n",
            "Tonight is the Night where it's all Depression naps but No Energy Recovered folks                                                                                                                                                                            1\n",
            "It's not my anxiety and depression keeping me up instead? Whoa! I wish I would have known this.  https://twitter.com/lifeasmelou_/status/988672717082775552Â â¦                                                                                             1\n",
            "                                                                                                                                                                                                                                                            ..\n",
            "@Nancy9980  thanks babe...it should be                                                                                                                                                                                                                       1\n",
            "@GaindaSwamy @Kanatungaa @Being_Humor @theskindoctor13 @minimathur @TheMystic19 @REBELLIOUSRAGGS @SethShruti @Ra_Bies Bharat,u might be booked in court of law for provoking her for suicide saying that she has no work n she might slip into depression    1\n",
            "@tallskinnykiwi LOL! Hope you're having fun in Portugal, and that the coffee is good                                                                                                                                                                         1\n",
            "@TrayC_B I have a way                                                                                                                                                                                                                                        1\n",
            "China children in poor rural area with happy smily face  #Xinwen Lianbo  o_o                                                                                                                                                                                 1\n",
            "Name: text, Length: 2058, dtype: int64\n"
          ]
        },
        {
          "output_type": "execute_result",
          "data": {
            "text/html": [
              "<div>\n",
              "<style scoped>\n",
              "    .dataframe tbody tr th:only-of-type {\n",
              "        vertical-align: middle;\n",
              "    }\n",
              "\n",
              "    .dataframe tbody tr th {\n",
              "        vertical-align: top;\n",
              "    }\n",
              "\n",
              "    .dataframe thead th {\n",
              "        text-align: right;\n",
              "    }\n",
              "</style>\n",
              "<table border=\"1\" class=\"dataframe\">\n",
              "  <thead>\n",
              "    <tr style=\"text-align: right;\">\n",
              "      <th></th>\n",
              "      <th>text</th>\n",
              "      <th>polarity</th>\n",
              "    </tr>\n",
              "  </thead>\n",
              "  <tbody>\n",
              "    <tr>\n",
              "      <th>8252</th>\n",
              "      <td>Depression is real</td>\n",
              "      <td>1</td>\n",
              "    </tr>\n",
              "    <tr>\n",
              "      <th>8253</th>\n",
              "      <td>@JChidester it's a blessing and a curse.  I gl...</td>\n",
              "      <td>0</td>\n",
              "    </tr>\n",
              "    <tr>\n",
              "      <th>8254</th>\n",
              "      <td>Onibus com personagem do Tim Burton</td>\n",
              "      <td>0</td>\n",
              "    </tr>\n",
              "    <tr>\n",
              "      <th>8255</th>\n",
              "      <td>@hewholovesher hope everything goes good</td>\n",
              "      <td>0</td>\n",
              "    </tr>\n",
              "    <tr>\n",
              "      <th>8256</th>\n",
              "      <td>@cM5y_fawkes Your house is famous! didn't you ...</td>\n",
              "      <td>0</td>\n",
              "    </tr>\n",
              "    <tr>\n",
              "      <th>...</th>\n",
              "      <td>...</td>\n",
              "      <td>...</td>\n",
              "    </tr>\n",
              "    <tr>\n",
              "      <th>10309</th>\n",
              "      <td>Ewww! Watery tea! The bag should be brewed for...</td>\n",
              "      <td>0</td>\n",
              "    </tr>\n",
              "    <tr>\n",
              "      <th>10310</th>\n",
              "      <td>#depression is to feel like crying every time ...</td>\n",
              "      <td>1</td>\n",
              "    </tr>\n",
              "    <tr>\n",
              "      <th>10311</th>\n",
              "      <td>@fawfulfan @AEC_PA @AdreanaInLB @MairinMurphy ...</td>\n",
              "      <td>1</td>\n",
              "    </tr>\n",
              "    <tr>\n",
              "      <th>10312</th>\n",
              "      <td>Whether you are excited to graduate or nervous...</td>\n",
              "      <td>1</td>\n",
              "    </tr>\n",
              "    <tr>\n",
              "      <th>10313</th>\n",
              "      <td>@whatcaitlindid long time no twitter  on monda...</td>\n",
              "      <td>0</td>\n",
              "    </tr>\n",
              "  </tbody>\n",
              "</table>\n",
              "<p>2062 rows × 2 columns</p>\n",
              "</div>"
            ],
            "text/plain": [
              "                                                    text  polarity\n",
              "8252                                  Depression is real         1\n",
              "8253   @JChidester it's a blessing and a curse.  I gl...         0\n",
              "8254                Onibus com personagem do Tim Burton          0\n",
              "8255           @hewholovesher hope everything goes good          0\n",
              "8256   @cM5y_fawkes Your house is famous! didn't you ...         0\n",
              "...                                                  ...       ...\n",
              "10309  Ewww! Watery tea! The bag should be brewed for...         0\n",
              "10310  #depression is to feel like crying every time ...         1\n",
              "10311  @fawfulfan @AEC_PA @AdreanaInLB @MairinMurphy ...         1\n",
              "10312  Whether you are excited to graduate or nervous...         1\n",
              "10313  @whatcaitlindid long time no twitter  on monda...         0\n",
              "\n",
              "[2062 rows x 2 columns]"
            ]
          },
          "metadata": {},
          "execution_count": 9
        }
      ]
    },
    {
      "cell_type": "code",
      "metadata": {
        "id": "q9B1E-0HMG6C"
      },
      "source": [
        "trainX = np.array(dataTrain.iloc[:, 0])\n",
        "trainY = np.array(dataTrain.iloc[:, 1])\n",
        "\n",
        "valX = np.array(dataVal.iloc[:, 0])\n",
        "valY = np.array(dataVal.iloc[:, 1])\n",
        "\n",
        "testX = np.array(dataTest.iloc[:, 0])\n",
        "testY = np.array(dataTest.iloc[:, 1])\n"
      ],
      "execution_count": 10,
      "outputs": []
    },
    {
      "cell_type": "code",
      "metadata": {
        "id": "Oqe-uYGSwRwS"
      },
      "source": [
        "top_k = 50000\n",
        "tokenizer = tf.keras.preprocessing.text.Tokenizer(num_words = top_k,\n",
        "                                                  oov_token = \"<unk>\",\n",
        "                                                  filters = '!\"#$%&()*+.,-/:;=?@[\\]^_`{|}~')\n",
        "tokenizer.fit_on_texts(trainX)\n",
        "\n",
        "tokenizer.word_index['<pad>'] = 0\n",
        "tokenizer.index_word[0] = '<pad>'\n",
        "\n",
        "train_seqs = tokenizer.texts_to_sequences(trainX)\n",
        "val_seqs = tokenizer.texts_to_sequences(valX)\n",
        "test_seqs = tokenizer.texts_to_sequences(testX)\n",
        "\n",
        "train_seqs = tf.keras.preprocessing.sequence.pad_sequences(train_seqs, padding = 'pre')\n",
        "val_seqs = tf.keras.preprocessing.sequence.pad_sequences(val_seqs, padding = 'pre')\n",
        "test_seqs = tf.keras.preprocessing.sequence.pad_sequences(test_seqs, padding = 'pre')"
      ],
      "execution_count": 11,
      "outputs": []
    },
    {
      "cell_type": "code",
      "metadata": {
        "colab": {
          "base_uri": "https://localhost:8080/",
          "height": 1000
        },
        "id": "p1alVk9SFqnX",
        "outputId": "47ee272a-c066-4de2-d85b-6f5d7a122c7d"
      },
      "source": [
        "model = Sequential()\n",
        "model.add(layers.Embedding(len(tokenizer.word_index), 128))\n",
        "model.add(layers.Bidirectional(layers.LSTM(256, return_sequences = True, dropout = 0.2)))\n",
        "model.add(layers.Bidirectional(layers.LSTM(512, return_sequences = True, dropout = 0.2)))\n",
        "model.add(layers.Bidirectional(layers.LSTM(64, return_sequences = True, dropout = 0.2)))\n",
        "model.add(layers.Bidirectional(layers.LSTM(8, dropout = 0.2)))\n",
        "model.add(layers.Dense(1, activation = 'sigmoid'))\n",
        "\n",
        "model.compile(loss = 'binary_crossentropy', optimizer = 'adam', metrics = ['accuracy'])\n",
        "\n",
        "model.summary()\n",
        "plot_model(model, to_file = 'model_plot.png', show_shapes = True, show_layer_names = True)"
      ],
      "execution_count": 12,
      "outputs": [
        {
          "output_type": "stream",
          "name": "stdout",
          "text": [
            "Model: \"sequential\"\n",
            "_________________________________________________________________\n",
            "Layer (type)                 Output Shape              Param #   \n",
            "=================================================================\n",
            "embedding (Embedding)        (None, None, 128)         2084608   \n",
            "_________________________________________________________________\n",
            "bidirectional (Bidirectional (None, None, 512)         788480    \n",
            "_________________________________________________________________\n",
            "bidirectional_1 (Bidirection (None, None, 1024)        4198400   \n",
            "_________________________________________________________________\n",
            "bidirectional_2 (Bidirection (None, None, 128)         557568    \n",
            "_________________________________________________________________\n",
            "bidirectional_3 (Bidirection (None, 16)                8768      \n",
            "_________________________________________________________________\n",
            "dense (Dense)                (None, 1)                 17        \n",
            "=================================================================\n",
            "Total params: 7,637,841\n",
            "Trainable params: 7,637,841\n",
            "Non-trainable params: 0\n",
            "_________________________________________________________________\n"
          ]
        },
        {
          "output_type": "execute_result",
          "data": {
            "image/png": "[encoded data removed]",
            "text/plain": [
              "<IPython.core.display.Image object>"
            ]
          },
          "metadata": {},
          "execution_count": 12
        }
      ]
    },
    {
      "cell_type": "code",
      "metadata": {
        "colab": {
          "base_uri": "https://localhost:8080/",
          "height": 1000
        },
        "id": "gDJ3y2IXKMXi",
        "outputId": "4666ece9-4bd1-4eff-9ca3-f2578e97b6bc"
      },
      "source": [
        "history = model.fit(train_seqs, trainY, epochs = EPOCH, validation_data = (val_seqs, valY), verbose = 1)\n",
        "\n",
        "def plot_graphs(history, string):\n",
        "  plt.plot(history.history[string])\n",
        "  plt.plot(history.history['val_'+string])\n",
        "  plt.xlabel(\"Epochs\")\n",
        "  plt.ylabel(string)\n",
        "  plt.legend([string, 'val_'+string])\n",
        "  plt.show()\n",
        "\n",
        "plot_graphs(history, 'accuracy')\n",
        "plot_graphs(history, 'loss')\n",
        "\n",
        "print('\\nEpoch No.  Train Accuracy  Train Loss     Val Accuracy    Val Loss')\n",
        "for i in range(EPOCH):\n",
        "  print('{:8d} {:10f} \\t {:10f} \\t {:10f} \\t {:10f}'.format(i + 1, history.history['accuracy'][i], history.history['loss'][i], history.history['val_accuracy'][i], history.history['val_loss'][i]))"
      ],
      "execution_count": 13,
      "outputs": [
        {
          "output_type": "stream",
          "name": "stdout",
          "text": [
            "Epoch 1/10\n",
            "194/194 [==============================] - 64s 237ms/step - loss: 0.3119 - accuracy: 0.8822 - val_loss: 0.1899 - val_accuracy: 0.9525\n",
            "Epoch 2/10\n",
            "194/194 [==============================] - 43s 220ms/step - loss: 0.1602 - accuracy: 0.9572 - val_loss: 0.2020 - val_accuracy: 0.9486\n",
            "Epoch 3/10\n",
            "194/194 [==============================] - 43s 221ms/step - loss: 0.1482 - accuracy: 0.9574 - val_loss: 0.0571 - val_accuracy: 0.9908\n",
            "Epoch 4/10\n",
            "194/194 [==============================] - 43s 220ms/step - loss: 0.0212 - accuracy: 0.9979 - val_loss: 0.0425 - val_accuracy: 0.9918\n",
            "Epoch 5/10\n",
            "194/194 [==============================] - 43s 220ms/step - loss: 0.0160 - accuracy: 0.9973 - val_loss: 0.0432 - val_accuracy: 0.9893\n",
            "Epoch 6/10\n",
            "194/194 [==============================] - 43s 220ms/step - loss: 0.0113 - accuracy: 0.9985 - val_loss: 0.0444 - val_accuracy: 0.9918\n",
            "Epoch 7/10\n",
            "194/194 [==============================] - 43s 220ms/step - loss: 0.0068 - accuracy: 0.9994 - val_loss: 0.0462 - val_accuracy: 0.9918\n",
            "Epoch 8/10\n",
            "194/194 [==============================] - 43s 220ms/step - loss: 0.0077 - accuracy: 0.9989 - val_loss: 0.5378 - val_accuracy: 0.8880\n",
            "Epoch 9/10\n",
            "194/194 [==============================] - 43s 220ms/step - loss: 0.0091 - accuracy: 0.9985 - val_loss: 0.0859 - val_accuracy: 0.9845\n",
            "Epoch 10/10\n",
            "194/194 [==============================] - 43s 220ms/step - loss: 0.0141 - accuracy: 0.9969 - val_loss: 0.0427 - val_accuracy: 0.9927\n"
          ]
        },
        {
          "output_type": "display_data",
          "data": {
            "image/png": "[encoded data removed]",
            "text/plain": [
              "<Figure size 432x288 with 1 Axes>"
            ]
          },
          "metadata": {
            "needs_background": "light"
          }
        },
        {
          "output_type": "display_data",
          "data": {
            "image/png": "[encoded data removed]",
            "text/plain": [
              "<Figure size 432x288 with 1 Axes>"
            ]
          },
          "metadata": {
            "needs_background": "light"
          }
        },
        {
          "output_type": "stream",
          "name": "stdout",
          "text": [
            "\n",
            "Epoch No.  Train Accuracy  Train Loss     Val Accuracy    Val Loss\n",
            "       1   0.882229 \t   0.311897 \t   0.952473 \t   0.189898\n",
            "       2   0.957189 \t   0.160178 \t   0.948594 \t   0.201996\n",
            "       3   0.957351 \t   0.148153 \t   0.990786 \t   0.057148\n",
            "       4   0.997900 \t   0.021202 \t   0.991756 \t   0.042512\n",
            "       5   0.997254 \t   0.015977 \t   0.989331 \t   0.043191\n",
            "       6   0.998546 \t   0.011259 \t   0.991756 \t   0.044377\n",
            "       7   0.999354 \t   0.006819 \t   0.991756 \t   0.046180\n",
            "       8   0.998869 \t   0.007684 \t   0.887973 \t   0.537753\n",
            "       9   0.998546 \t   0.009134 \t   0.984481 \t   0.085885\n",
            "      10   0.996931 \t   0.014105 \t   0.992725 \t   0.042700\n"
          ]
        }
      ]
    },
    {
      "cell_type": "markdown",
      "metadata": {
        "id": "TyFEiBlM20nr"
      },
      "source": [
        "### Train Data Performance"
      ]
    },
    {
      "cell_type": "code",
      "metadata": {
        "colab": {
          "base_uri": "https://localhost:8080/",
          "height": 408
        },
        "id": "IlTlpLrtgfMt",
        "outputId": "f463316c-0267-4233-939f-1b507bfa3adf"
      },
      "source": [
        "\n",
        "y_pred = model.predict(train_seqs)\n",
        "\n",
        "y_pred = np.where(y_pred > 0.5, 1, 0)\n",
        "y_pred = np.reshape(y_pred, (y_pred.shape[0]))\n",
        "\n",
        "loss, accuracy = model.evaluate(train_seqs, trainY, verbose = 1)\n",
        "print('Train Loss:', loss)\n",
        "print('Train Accuracy:', accuracy, '(Model Metric)')\n",
        "print('Train Accuracy:', accuracy_score(trainY, y_pred), '(sklearn Metric)')\n",
        "print('Train Precision:', precision_score(trainY, y_pred))\n",
        "print('Train Recall:', recall_score(trainY, y_pred))\n",
        "print('Train F1-score:', f1_score(trainY, y_pred))\n",
        "\n",
        "sns.heatmap(confusion_matrix(trainY, y_pred), annot = True, fmt = 'g')"
      ],
      "execution_count": null,
      "outputs": [
        {
          "output_type": "stream",
          "name": "stdout",
          "text": [
            "194/194 [==============================] - 19s 82ms/step - loss: 0.0080 - accuracy: 0.9990\n",
            "Train Loss: 0.008008589968085289\n",
            "Train Accuracy: 0.9990307092666626 (Model Metric)\n",
            "Train Accuracy: 0.9990306946688207 (sklearn Metric)\n",
            "Train Precision: 0.9992867332382311\n",
            "Train Recall: 0.9964438122332859\n",
            "Train F1-score: 0.9978632478632479\n"
          ]
        },
        {
          "output_type": "execute_result",
          "data": {
            "text/plain": [
              "<matplotlib.axes._subplots.AxesSubplot at 0x7f1c03583c50>"
            ]
          },
          "metadata": {},
          "execution_count": 14
        },
        {
          "output_type": "display_data",
          "data": {
            "image/png": "[encoded data removed]",
            "text/plain": [
              "<Figure size 432x288 with 2 Axes>"
            ]
          },
          "metadata": {
            "needs_background": "light"
          }
        }
      ]
    },
    {
      "cell_type": "markdown",
      "metadata": {
        "id": "2iySVDHT25d6"
      },
      "source": [
        "### Val Data Performance"
      ]
    },
    {
      "cell_type": "code",
      "metadata": {
        "colab": {
          "base_uri": "https://localhost:8080/",
          "height": 412
        },
        "id": "_D7KdFvHhHOS",
        "outputId": "7f6bd9d4-ed39-4184-9b95-f54e93cd994e"
      },
      "source": [
        "y_pred = model.predict(val_seqs)\n",
        "\n",
        "y_pred = np.where(y_pred > 0.5, 1, 0)\n",
        "y_pred = np.reshape(y_pred, (y_pred.shape[0]))\n",
        "\n",
        "loss, accuracy = model.evaluate(val_seqs, valY, verbose = 1)\n",
        "print('Validation Loss:', loss)\n",
        "print('Validation Accuracy:', accuracy, '(Model Metric)')\n",
        "print('Validation Accuracy:', accuracy_score(valY, y_pred), '(sklearn Metric)')\n",
        "print('Validation Precision:', precision_score(valY, y_pred))\n",
        "print('Validation Recall:', recall_score(valY, y_pred))\n",
        "print('Validation F1-score:', f1_score(valY, y_pred))\n",
        "\n",
        "sns.heatmap(confusion_matrix(valY, y_pred), annot = True, fmt = 'g')"
      ],
      "execution_count": null,
      "outputs": [
        {
          "output_type": "stream",
          "name": "stdout",
          "text": [
            "65/65 [==============================] - 5s 69ms/step - loss: 0.0366 - accuracy: 0.9942\n",
            "Validation Loss: 0.03659782558679581\n",
            "Validation Accuracy: 0.9941803812980652 (Model Metric)\n",
            "Validation Accuracy: 0.9941804073714839 (sklearn Metric)\n",
            "Validation Precision: 0.9911504424778761\n",
            "Validation Recall: 0.9824561403508771\n",
            "Validation F1-score: 0.9867841409691629\n"
          ]
        },
        {
          "output_type": "execute_result",
          "data": {
            "text/plain": [
              "<matplotlib.axes._subplots.AxesSubplot at 0x7f1be6d60310>"
            ]
          },
          "metadata": {},
          "execution_count": 15
        },
        {
          "output_type": "display_data",
          "data": {
            "image/png": "[encoded data removed]",
            "text/plain": [
              "<Figure size 432x288 with 2 Axes>"
            ]
          },
          "metadata": {
            "needs_background": "light"
          }
        }
      ]
    },
    {
      "cell_type": "markdown",
      "metadata": {
        "id": "DHudDMkw28oS"
      },
      "source": [
        "### Test Data Performance"
      ]
    },
    {
      "cell_type": "code",
      "metadata": {
        "colab": {
          "base_uri": "https://localhost:8080/",
          "height": 411
        },
        "id": "SWt3knXRMnJ6",
        "outputId": "60bb24d6-35dc-43db-c3a4-1f3c7a857336"
      },
      "source": [
        "y_pred = model.predict(test_seqs)\n",
        "\n",
        "y_pred = np.where(y_pred > 0.5, 1, 0)\n",
        "y_pred = np.reshape(y_pred, (y_pred.shape[0]))\n",
        "\n",
        "loss, accuracy = model.evaluate(test_seqs, testY, verbose = 1)\n",
        "print('Test Loss:', loss)\n",
        "print('Test Accuracy:', accuracy, '(Model Metric)')\n",
        "print('Test Accuracy:', accuracy_score(testY, y_pred), '(sklearn Metric)')\n",
        "print('Test Precision:', precision_score(testY, y_pred))\n",
        "print('Test Recall:', recall_score(testY, y_pred))\n",
        "print('Test F1-score:', f1_score(testY, y_pred))\n",
        "\n",
        "sns.heatmap(confusion_matrix(testY, y_pred), annot = True, fmt = 'g')"
      ],
      "execution_count": null,
      "outputs": [
        {
          "output_type": "stream",
          "name": "stdout",
          "text": [
            "65/65 [==============================] - 7s 63ms/step - loss: 0.0324 - accuracy: 0.9942\n",
            "Test Loss: 0.032363008707761765\n",
            "Test Accuracy: 0.9941803812980652 (Model Metric)\n",
            "Test Accuracy: 0.9941804073714839 (sklearn Metric)\n",
            "Test Precision: 0.9932735426008968\n",
            "Test Recall: 0.9800884955752213\n",
            "Test F1-score: 0.9866369710467706\n"
          ]
        },
        {
          "output_type": "execute_result",
          "data": {
            "text/plain": [
              "<matplotlib.axes._subplots.AxesSubplot at 0x7f1c03681ad0>"
            ]
          },
          "metadata": {},
          "execution_count": 16
        },
        {
          "output_type": "display_data",
          "data": {
            "image/png": "[encoded data removed]",
            "text/plain": [
              "<Figure size 432x288 with 2 Axes>"
            ]
          },
          "metadata": {
            "needs_background": "light"
          }
        }
      ]
    }
  ]
}